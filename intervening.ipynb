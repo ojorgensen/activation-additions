{
 "cells": [
  {
   "cell_type": "code",
   "execution_count": 1,
   "metadata": {},
   "outputs": [
    {
     "name": "stderr",
     "output_type": "stream",
     "text": [
      "/root/activation-additions-large-models/myenv/lib/python3.10/site-packages/tqdm/auto.py:21: TqdmWarning: IProgress not found. Please update jupyter and ipywidgets. See https://ipywidgets.readthedocs.io/en/stable/user_install.html\n",
      "  from .autonotebook import tqdm as notebook_tqdm\n"
     ]
    }
   ],
   "source": [
    "from src.utils.extract_utils import average_vectors, gather_activations_from_dataset"
   ]
  },
  {
   "cell_type": "code",
   "execution_count": 2,
   "metadata": {},
   "outputs": [],
   "source": [
    "import torch, transformers, accelerate, einops, json\n"
   ]
  },
  {
   "cell_type": "code",
   "execution_count": 3,
   "metadata": {},
   "outputs": [],
   "source": [
    "from src.utils.model_utils import load_gpt_model_and_tokeniser\n",
    "\n",
    "from src.utils.extract_utils import create_steering_vector\n",
    "\n",
    "from src.utils.intervention_utils import steering_natural_text"
   ]
  },
  {
   "cell_type": "code",
   "execution_count": 4,
   "metadata": {},
   "outputs": [
    {
     "name": "stderr",
     "output_type": "stream",
     "text": [
      "Detected kernel version 5.4.0, which is below the recommended minimum of 5.5.0; this can cause the process to hang. It is recommended to upgrade the kernel to the minimum version or higher.\n"
     ]
    },
    {
     "name": "stderr",
     "output_type": "stream",
     "text": [
      "tokenizer_config.json: 100%|██████████| 776/776 [00:00<00:00, 2.43MB/s]\n",
      "tokenizer.model: 100%|██████████| 500k/500k [00:01<00:00, 478kB/s]\n",
      "special_tokens_map.json: 100%|██████████| 414/414 [00:00<00:00, 1.35MB/s]\n",
      "tokenizer.json: 100%|██████████| 1.84M/1.84M [00:00<00:00, 2.22MB/s]\n",
      "config.json: 100%|██████████| 609/609 [00:00<00:00, 2.01MB/s]\n",
      "model.safetensors.index.json: 100%|██████████| 26.8k/26.8k [00:00<00:00, 32.6MB/s]\n",
      "model-00001-of-00002.safetensors: 100%|██████████| 9.98G/9.98G [27:54<00:00, 5.96MB/s]\n",
      "model-00002-of-00002.safetensors: 100%|██████████| 3.50G/3.50G [09:46<00:00, 5.96MB/s]\n",
      "Downloading shards: 100%|██████████| 2/2 [37:42<00:00, 1131.43s/it]\n",
      "Loading checkpoint shards: 100%|██████████| 2/2 [00:09<00:00,  4.66s/it]\n",
      "/root/activation-additions-large-models/myenv/lib/python3.10/site-packages/transformers/utils/hub.py:374: FutureWarning: The `use_auth_token` argument is deprecated and will be removed in v5 of Transformers. Please use `token` instead.\n",
      "  warnings.warn(\n",
      "generation_config.json: 100%|██████████| 188/188 [00:00<00:00, 695kB/s]\n"
     ]
    }
   ],
   "source": [
    "model, tokenizer, MODEL_CONFIG = load_gpt_model_and_tokeniser(model_name=\"meta-llama/Llama-2-7b-hf\")\n",
    "\n",
    "# model, tokenizer, MODEL_CONFIG = load_gpt_model_and_tokeniser(model_name=\"gpt2-xl\")"
   ]
  },
  {
   "cell_type": "code",
   "execution_count": 5,
   "metadata": {},
   "outputs": [
    {
     "data": {
      "text/plain": [
       "device(type='cuda', index=0)"
      ]
     },
     "execution_count": 5,
     "metadata": {},
     "output_type": "execute_result"
    }
   ],
   "source": [
    "model.device"
   ]
  },
  {
   "cell_type": "code",
   "execution_count": 5,
   "metadata": {},
   "outputs": [],
   "source": [
    "import src.utils.intervention_utils as iu"
   ]
  },
  {
   "cell_type": "markdown",
   "metadata": {},
   "source": [
    "# Load Datasets"
   ]
  },
  {
   "cell_type": "code",
   "execution_count": 6,
   "metadata": {},
   "outputs": [],
   "source": [
    "stories = {}\n",
    "\n",
    "# Open and read the JSON file\n",
    "with open('datasets/fantasy.json', 'r') as file:\n",
    "  # Load the JSON data from the file\n",
    "  dataset_fantasy = json.load(file)\n",
    "\n",
    "  stories[\"fantasy\"] = dataset_fantasy\n",
    "\n",
    "with open('datasets/scifi.json', 'r') as file:\n",
    "  # Load the JSON data from the file\n",
    "  dataset_scifi = json.load(file)\n",
    "\n",
    "  stories[\"scifi\"] = dataset_scifi"
   ]
  },
  {
   "cell_type": "code",
   "execution_count": 7,
   "metadata": {},
   "outputs": [],
   "source": [
    "from src.utils.dataset_utils import read_all_text_files\n",
    "\n",
    "training_dataset = read_all_text_files(\"datasets/opentext_subset\")\n",
    "\n",
    "# Cut texts for first 200 tokens\n",
    "# Determine the cutoff point using the tokenizer\n",
    "if 'llama' in MODEL_CONFIG['name_or_path']:\n",
    "    training_dataset = [tokenizer.decode(tokenizer.encode(text)[:200])[4:] for text in training_dataset][:400]\n",
    "else:\n",
    "    training_dataset = [tokenizer.decode(tokenizer.encode(text)[:200]) for text in training_dataset][:400]"
   ]
  },
  {
   "cell_type": "code",
   "execution_count": 8,
   "metadata": {},
   "outputs": [
    {
     "data": {
      "text/plain": [
       "'Massimo Cellino’s near three-year ownership of Leeds United could be set to come to a close amid a string of reports in the Italian media on Wednesday.\\n\\nThe Italian’s tenure at Elland Road has been nothing short of tumultuous and news that Cellino – through his family’s trust Eleonora Sport Ltd – is set to relinquish his holdings at the club will come as a huge relief to their supporters who have long campaigned to have him removed.\\n\\nAccording to calciomercato, Cellino is understood to have agreed the sale of Leeds to another Italian, Andrea Radrizzani, who is the president of the MP & Silva Media empire.\\n\\nRadrizzani has been seen at several Leeds games recently and his purchase of the club would not come as a huge shock to those who have been following the Cellino saga closely.\\n\\nThe Italian'"
      ]
     },
     "execution_count": 8,
     "metadata": {},
     "output_type": "execute_result"
    }
   ],
   "source": [
    "training_dataset[0]"
   ]
  },
  {
   "cell_type": "markdown",
   "metadata": {},
   "source": [
    "# Creating a Steering Vector"
   ]
  },
  {
   "cell_type": "code",
   "execution_count": 8,
   "metadata": {},
   "outputs": [
    {
     "name": "stderr",
     "output_type": "stream",
     "text": [
      "Gathering activations: 100%|██████████| 200/200 [02:37<00:00,  1.27it/s]\n",
      "Gathering activations: 100%|██████████| 300/300 [04:05<00:00,  1.22it/s]\n"
     ]
    }
   ],
   "source": [
    "steering_vector = create_steering_vector(\n",
    "    model,\n",
    "    tokenizer,\n",
    "    MODEL_CONFIG,\n",
    "    dataset_fantasy,\n",
    "    training_dataset[:300],\n",
    "    [\"layer_hook_names\"],\n",
    "    False,\n",
    "    False,\n",
    "    False\n",
    ")"
   ]
  },
  {
   "cell_type": "markdown",
   "metadata": {},
   "source": [
    "# Try Steering!"
   ]
  },
  {
   "cell_type": "code",
   "execution_count": 11,
   "metadata": {},
   "outputs": [
    {
     "name": "stderr",
     "output_type": "stream",
     "text": [
      "100%|██████████| 3/3 [00:41<00:00, 13.79s/it]\n"
     ]
    }
   ],
   "source": [
    "# Clearlu should just make num_beams smaller!!!\n",
    "\n",
    "outputs = steering_natural_text(\n",
    "    \"Yesterday, my daughter was out kicking a football. Then,\", \n",
    "    25,\n",
    "    steering_vector[25] * 1.5, \n",
    "    model,\n",
    "    MODEL_CONFIG, \n",
    "    tokenizer, \n",
    "    max_new_tokens=100, \n",
    "    temperature=1.0, \n",
    "    freq_penalty=2.0,\n",
    "    top_p=0.3,\n",
    "    n_completions=3,\n",
    "    n_beams=10\n",
    ")"
   ]
  },
  {
   "cell_type": "code",
   "execution_count": 12,
   "metadata": {},
   "outputs": [
    {
     "data": {
      "text/plain": [
       "{'clean': ['she came in and said, “Mommy, I’m going to be a soccer player when I grow up.”\\n“That’s great,” I said. “What position do you want to play?”\\n“I don’t know,” she said. “I just want to be a soccer player.”\\n“Well, that’s great,” I said. “But what position do you want to play?”\\n“I don’t know,” she said.',\n",
       "  'she came in and said, “Mommy, I’m going to be a soccer player when I grow up.”\\n“Really?” I asked. “Why do you want to be a soccer player?”\\n“Because it’s fun,” she said.\\n“That’s great,” I said. “But what if you don’t like playing soccer when you’re older?”\\n“Then I won’t be a soccer player,” she',\n",
       "  'she came in and said, “Mommy, I’m going to be a soccer player when I grow up.”\\n“Really?” I asked. “Why do you want to be a soccer player?”\\n“Because it’s fun,” she said.\\n“What else do you like to do?” I asked.\\n“I like to play with my friends,” she said.\\n“What else do you like to do?” I asked again.\\n“'],\n",
       " 'steered': ['she tripped and fell on her ankle. She screamed in pain and I rushed her to the emergency room. The doctor told us that she had sprained her an enchilada.\\nI don’t know if you’ve ever heard of such a thing, but it’s true. Her ankle was so swollen that it looked like an enchilada.\\nThe doctor said that she would need to rest her ankle',\n",
       "  'she tripped and fell on her ankle. She screamed in pain and I rushed her to the hospital. The doctor told us that she had fractured her ankle and would need to wear a cast for six weeks.\\nMy daughter was devastated. She couldn’t believe that she had broken her ankle so soon after returning to school. She was worried that she wouldn’t be able to keep up with her friends and that she would',\n",
       "  'she tripped and fell on her ankle. It swelled up like a balloon and she couldn’t walk.\\nI took her to the emergency room where they x-rayed her ankle and found no fracture. They gave her a brace and told her to rest it for a few days.\\nToday, I took her back to the same emergency room because her ankle was still swollen and she couldn’t walk']}"
      ]
     },
     "execution_count": 12,
     "metadata": {},
     "output_type": "execute_result"
    }
   ],
   "source": [
    "outputs"
   ]
  },
  {
   "cell_type": "code",
   "execution_count": 14,
   "metadata": {},
   "outputs": [
    {
     "data": {
      "text/plain": [
       "'\\nOnce upon a time, there was a magical kingdom called the Kingdom of Light. The kingdom was ruled by a benevolent king and queen, who loved their kingdom and its people with all her heart.\\nOne day, the kingdom was enchanted by a dark sorcerer, who cast a spell upon the kingdom, transforming it into a kingdom of darkness and evil. The once peaceful kingdom became a kingdom of fear and darkness, where magic and magic creatures were forb'"
      ]
     },
     "execution_count": 14,
     "metadata": {},
     "output_type": "execute_result"
    }
   ],
   "source": [
    "outputs[\"steered\"][1]"
   ]
  },
  {
   "cell_type": "code",
   "execution_count": 15,
   "metadata": {},
   "outputs": [
    {
     "name": "stderr",
     "output_type": "stream",
     "text": [
      "100%|██████████| 3/3 [00:36<00:00, 12.22s/it]\n"
     ]
    }
   ],
   "source": [
    "# Clearlu should just make num_beams smaller!!!\n",
    "\n",
    "outputs2 = steering_natural_text(\n",
    "    \"Here is a story:\", \n",
    "    25,\n",
    "    steering_vector[25] * 1.5, \n",
    "    model,\n",
    "    MODEL_CONFIG, \n",
    "    tokenizer, \n",
    "    max_new_tokens=100, \n",
    "    temperature=1.0, \n",
    "    freq_penalty=2.0,\n",
    "    top_p=0.3,\n",
    "    n_completions=3,\n",
    "    n_beams=10\n",
    ")"
   ]
  },
  {
   "cell_type": "code",
   "execution_count": 16,
   "metadata": {},
   "outputs": [
    {
     "data": {
      "text/plain": [
       "'\\nA long time ago, in a land far, far away, there lived a beautiful princess. She was the only child of a king and queen who loved her with all their hearts. The princess had everything she could ever wish for, except one thing—a true love.\\nOne day, as the princess was wandering through the enchanted forest, she stumbled upon a magical castle. Upon entering, she found herself in a magnificent ballroom, filled with'"
      ]
     },
     "execution_count": 16,
     "metadata": {},
     "output_type": "execute_result"
    }
   ],
   "source": [
    "outputs2[\"steered\"][1]"
   ]
  },
  {
   "cell_type": "code",
   "execution_count": 15,
   "metadata": {},
   "outputs": [
    {
     "name": "stderr",
     "output_type": "stream",
     "text": [
      "100%|██████████| 3/3 [00:41<00:00, 13.77s/it]\n"
     ]
    }
   ],
   "source": [
    "outputs3 = steering_natural_text(\n",
    "    \"Yesterday, my son was out kicking a football. Then,\", \n",
    "    25,\n",
    "    steering_vector[25] * 3, \n",
    "    model,\n",
    "    MODEL_CONFIG, \n",
    "    tokenizer, \n",
    "    max_new_tokens=100, \n",
    "    temperature=1.0, \n",
    "    freq_penalty=2.0,\n",
    "    top_p=0.3,\n",
    "    n_completions=3,\n",
    "    n_beams=10\n",
    ")"
   ]
  },
  {
   "cell_type": "code",
   "execution_count": 16,
   "metadata": {},
   "outputs": [
    {
     "data": {
      "text/plain": [
       "{'clean': ['he came in and said, “Mom, I’m going to be a professional football player when I grow up.”\\n“That’s great,” I said. “What position do you want to play?”\\n“I don’t know,” he said. “Maybe quarterback.”\\n“Well, that’s good,” I said. “Because there are only 32 quarterbacks in the NFL.”\\n“Really?” he said. “Only 3',\n",
       "  'he came in and said, “Mom, I think I’m going to be a quarterback when I grow up.”\\n“Really?” I asked. “Why do you think that?”\\n“Because,” he said, “I can throw the ball really far.”\\n“That’s great,” I said. “What else do you need to be a quarterback?”\\n“Well,” he said, “I need to be able to catch the ball.”\\n“',\n",
       "  'he came in and said, “Mom, I’m going to be a professional football player when I grow up.”\\n“That’s great,” I said. “What position do you want to play?”\\n“I don’t know,” he said. “Maybe quarterback.”\\n“Well, that’s good,” I said. “Because the quarterback is the most important position on the team.”\\n“Really?” he asked. “Why?”\\n“'],\n",
       " 'steered': ['he came inside and told me that he had found a strange creature in the garden. I rushed outside to see what it was. It turned out to be a magical creature called a unicorn.\\nThe unicorn was enchanting. Its golden horn glimmered in the sunlight, and its sparkling eyes shone with magic. The unicorn seemed to radiate a magical energy that filled the air with wonder and enchantment.\\nMy son',\n",
       "  'he came inside and told me that he had found a strange creature in the garden. I rushed outside to see what it was. It was a magical fairy! She was enchanting and enchanted all at the same time. Her wings glimmered with magic and her eyes sparkled with enchantment. She held a magical wand in her hand, which she wielded with grace and gracefulness. She whispered magical words of enchantment',\n",
       "  'he came inside and told me that he had found a strange creature in the garden. I rushed outside to see what it was. It was a magical fairy! She was dancing upon the petals of an enchanted rose. Her wings were glimmering with light and her long golden hair shimmered in the moonlight. She held a magical wand in her hand, which she wielded gracefully as she danced upon the petals of the en']}"
      ]
     },
     "execution_count": 16,
     "metadata": {},
     "output_type": "execute_result"
    }
   ],
   "source": [
    "outputs3"
   ]
  },
  {
   "cell_type": "code",
   "execution_count": 22,
   "metadata": {},
   "outputs": [],
   "source": [
    "prompt = \"In the flickering glow of his multi-monitor setup, Alex, a skilled computer hacker, hunched over his keyboard. His world was a digital maze of codes and firewalls. Tonight, he was on a mission to expose corrupt corporate secrets. With each keystroke, he danced through layers of security, his fingers a blur of motion. The clock ticked ominously, reminding him of the race against time.\""
   ]
  },
  {
   "cell_type": "code",
   "execution_count": 25,
   "metadata": {},
   "outputs": [
    {
     "name": "stderr",
     "output_type": "stream",
     "text": [
      "  0%|          | 0/3 [00:00<?, ?it/s]"
     ]
    },
    {
     "name": "stderr",
     "output_type": "stream",
     "text": [
      "100%|██████████| 3/3 [00:45<00:00, 15.00s/it]\n"
     ]
    }
   ],
   "source": [
    "outputs4 = steering_natural_text(\n",
    "    prompt, \n",
    "    25,\n",
    "    steering_vector[25] * 2, \n",
    "    model,\n",
    "    MODEL_CONFIG, \n",
    "    tokenizer, \n",
    "    max_new_tokens=100, \n",
    "    temperature=1.0, \n",
    "    freq_penalty=2.0,\n",
    "    top_p=0.3,\n",
    "    n_completions=3,\n",
    "    n_beams=10\n",
    ")"
   ]
  },
  {
   "cell_type": "code",
   "execution_count": 36,
   "metadata": {},
   "outputs": [
    {
     "data": {
      "text/plain": [
       "'\\nAs he delved deeper into the forbidden realm, an unsettling sense of danger crept upon him. He sensed that something dark and sinister lurked in the shadows, ready to pounce upon him at any moment. Her eyes pierced through the darkness, like twin beams of light, searching for her prey. She had been watching him for days, waiting for the perfect opportunity to strike. And tonight, she knew, was the night'"
      ]
     },
     "execution_count": 36,
     "metadata": {},
     "output_type": "execute_result"
    }
   ],
   "source": [
    "outputs4[\"steered\"][1]"
   ]
  },
  {
   "cell_type": "code",
   "execution_count": 45,
   "metadata": {},
   "outputs": [
    {
     "name": "stderr",
     "output_type": "stream",
     "text": [
      "  0%|          | 0/3 [00:00<?, ?it/s]"
     ]
    },
    {
     "name": "stderr",
     "output_type": "stream",
     "text": [
      "100%|██████████| 3/3 [00:43<00:00, 14.54s/it]\n"
     ]
    }
   ],
   "source": [
    "outputs5 = steering_natural_text(\n",
    "    prompt, \n",
    "    28,\n",
    "    steering_vector[28]*1.5, \n",
    "    model,\n",
    "    MODEL_CONFIG, \n",
    "    tokenizer, \n",
    "    max_new_tokens=100, \n",
    "    temperature=1.0, \n",
    "    freq_penalty=2.0,\n",
    "    top_p=0.3,\n",
    "    n_completions=3,\n",
    "    n_beams=10\n",
    ")"
   ]
  },
  {
   "cell_type": "code",
   "execution_count": 49,
   "metadata": {},
   "outputs": [
    {
     "data": {
      "text/plain": [
       "'\\nAs he delved deeper into the forbidden realm, he felt a strange presence lurking in the shadows. He knew he was being watched, yet no one could see him. A chill crept down his spine as he sensed something dark and sinister lurking in the darkness.\\nSuddenly, a bright light illuminated the room, blinding him for a moment. When he regained his vision, he found himself staring into'"
      ]
     },
     "execution_count": 49,
     "metadata": {},
     "output_type": "execute_result"
    }
   ],
   "source": [
    "outputs5[\"steered\"][0]"
   ]
  },
  {
   "cell_type": "code",
   "execution_count": null,
   "metadata": {},
   "outputs": [],
   "source": []
  }
 ],
 "metadata": {
  "kernelspec": {
   "display_name": "myenv",
   "language": "python",
   "name": "python3"
  },
  "language_info": {
   "codemirror_mode": {
    "name": "ipython",
    "version": 3
   },
   "file_extension": ".py",
   "mimetype": "text/x-python",
   "name": "python",
   "nbconvert_exporter": "python",
   "pygments_lexer": "ipython3",
   "version": "3.10.13"
  }
 },
 "nbformat": 4,
 "nbformat_minor": 2
}
