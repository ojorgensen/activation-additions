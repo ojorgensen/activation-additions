{
 "cells": [
  {
   "cell_type": "code",
   "execution_count": 1,
   "metadata": {},
   "outputs": [
    {
     "name": "stderr",
     "output_type": "stream",
     "text": [
      "/root/activation-additions-large-models/myenv/lib/python3.10/site-packages/tqdm/auto.py:21: TqdmWarning: IProgress not found. Please update jupyter and ipywidgets. See https://ipywidgets.readthedocs.io/en/stable/user_install.html\n",
      "  from .autonotebook import tqdm as notebook_tqdm\n"
     ]
    }
   ],
   "source": [
    "from src.utils.extract_utils import gather_activations"
   ]
  },
  {
   "cell_type": "code",
   "execution_count": 2,
   "metadata": {},
   "outputs": [],
   "source": [
    "import torch, transformers, accelerate"
   ]
  },
  {
   "cell_type": "code",
   "execution_count": 3,
   "metadata": {},
   "outputs": [],
   "source": [
    "from src.utils.model_utils import load_gpt_model_and_tokeniser"
   ]
  },
  {
   "cell_type": "code",
   "execution_count": 4,
   "metadata": {},
   "outputs": [
    {
     "name": "stderr",
     "output_type": "stream",
     "text": [
      "Detected kernel version 5.4.0, which is below the recommended minimum of 5.5.0; this can cause the process to hang. It is recommended to upgrade the kernel to the minimum version or higher.\n"
     ]
    }
   ],
   "source": [
    "model, tokenizer, MODEL_CONFIG = load_gpt_model_and_tokeniser(model_name=\"gpt2-xl\")"
   ]
  },
  {
   "cell_type": "code",
   "execution_count": 5,
   "metadata": {},
   "outputs": [],
   "source": [
    "td = gather_activations(\n",
    "    \"Good day sir, how are you doing today?\",\n",
    "    MODEL_CONFIG['attn_hook_names'],\n",
    "    model,\n",
    "    tokenizer,\n",
    ")"
   ]
  },
  {
   "cell_type": "code",
   "execution_count": 11,
   "metadata": {},
   "outputs": [
    {
     "data": {
      "text/plain": [
       "odict_keys(['transformer.h.0.attn.c_proj', 'transformer.h.1.attn.c_proj', 'transformer.h.2.attn.c_proj', 'transformer.h.3.attn.c_proj', 'transformer.h.4.attn.c_proj', 'transformer.h.5.attn.c_proj', 'transformer.h.6.attn.c_proj', 'transformer.h.7.attn.c_proj', 'transformer.h.8.attn.c_proj', 'transformer.h.9.attn.c_proj', 'transformer.h.10.attn.c_proj', 'transformer.h.11.attn.c_proj', 'transformer.h.12.attn.c_proj', 'transformer.h.13.attn.c_proj', 'transformer.h.14.attn.c_proj', 'transformer.h.15.attn.c_proj', 'transformer.h.16.attn.c_proj', 'transformer.h.17.attn.c_proj', 'transformer.h.18.attn.c_proj', 'transformer.h.19.attn.c_proj', 'transformer.h.20.attn.c_proj', 'transformer.h.21.attn.c_proj', 'transformer.h.22.attn.c_proj', 'transformer.h.23.attn.c_proj', 'transformer.h.24.attn.c_proj', 'transformer.h.25.attn.c_proj', 'transformer.h.26.attn.c_proj', 'transformer.h.27.attn.c_proj', 'transformer.h.28.attn.c_proj', 'transformer.h.29.attn.c_proj', 'transformer.h.30.attn.c_proj', 'transformer.h.31.attn.c_proj', 'transformer.h.32.attn.c_proj', 'transformer.h.33.attn.c_proj', 'transformer.h.34.attn.c_proj', 'transformer.h.35.attn.c_proj', 'transformer.h.36.attn.c_proj', 'transformer.h.37.attn.c_proj', 'transformer.h.38.attn.c_proj', 'transformer.h.39.attn.c_proj', 'transformer.h.40.attn.c_proj', 'transformer.h.41.attn.c_proj', 'transformer.h.42.attn.c_proj', 'transformer.h.43.attn.c_proj', 'transformer.h.44.attn.c_proj', 'transformer.h.45.attn.c_proj', 'transformer.h.46.attn.c_proj', 'transformer.h.47.attn.c_proj'])"
      ]
     },
     "execution_count": 11,
     "metadata": {},
     "output_type": "execute_result"
    }
   ],
   "source": [
    "td.keys()"
   ]
  },
  {
   "cell_type": "code",
   "execution_count": 9,
   "metadata": {},
   "outputs": [
    {
     "data": {
      "text/plain": [
       "dict_keys(['n_heads', 'n_layers', 'resid_dim', 'name_or_path', 'attn_hook_names', 'layer_hook_names'])"
      ]
     },
     "execution_count": 9,
     "metadata": {},
     "output_type": "execute_result"
    }
   ],
   "source": [
    "MODEL_CONFIG.keys()"
   ]
  },
  {
   "cell_type": "code",
   "execution_count": 6,
   "metadata": {},
   "outputs": [],
   "source": [
    "act_tensors = [td[layer].input for layer in MODEL_CONFIG['attn_hook_names']]"
   ]
  },
  {
   "cell_type": "code",
   "execution_count": 7,
   "metadata": {},
   "outputs": [
    {
     "data": {
      "text/plain": [
       "torch.Size([1, 10, 1600])"
      ]
     },
     "execution_count": 7,
     "metadata": {},
     "output_type": "execute_result"
    }
   ],
   "source": [
    "\n",
    "act_tensors[0].shape"
   ]
  },
  {
   "cell_type": "code",
   "execution_count": 10,
   "metadata": {},
   "outputs": [
    {
     "data": {
      "text/plain": [
       "transformers.models.gpt2.modeling_gpt2.GPT2LMHeadModel"
      ]
     },
     "execution_count": 10,
     "metadata": {},
     "output_type": "execute_result"
    }
   ],
   "source": [
    "type(model)"
   ]
  },
  {
   "cell_type": "code",
   "execution_count": 11,
   "metadata": {},
   "outputs": [
    {
     "data": {
      "text/plain": [
       "['transformer.h.0.attn.c_proj',\n",
       " 'transformer.h.1.attn.c_proj',\n",
       " 'transformer.h.2.attn.c_proj',\n",
       " 'transformer.h.3.attn.c_proj',\n",
       " 'transformer.h.4.attn.c_proj',\n",
       " 'transformer.h.5.attn.c_proj',\n",
       " 'transformer.h.6.attn.c_proj',\n",
       " 'transformer.h.7.attn.c_proj',\n",
       " 'transformer.h.8.attn.c_proj',\n",
       " 'transformer.h.9.attn.c_proj',\n",
       " 'transformer.h.10.attn.c_proj',\n",
       " 'transformer.h.11.attn.c_proj',\n",
       " 'transformer.h.12.attn.c_proj',\n",
       " 'transformer.h.13.attn.c_proj',\n",
       " 'transformer.h.14.attn.c_proj',\n",
       " 'transformer.h.15.attn.c_proj',\n",
       " 'transformer.h.16.attn.c_proj',\n",
       " 'transformer.h.17.attn.c_proj',\n",
       " 'transformer.h.18.attn.c_proj',\n",
       " 'transformer.h.19.attn.c_proj',\n",
       " 'transformer.h.20.attn.c_proj',\n",
       " 'transformer.h.21.attn.c_proj',\n",
       " 'transformer.h.22.attn.c_proj',\n",
       " 'transformer.h.23.attn.c_proj',\n",
       " 'transformer.h.24.attn.c_proj',\n",
       " 'transformer.h.25.attn.c_proj',\n",
       " 'transformer.h.26.attn.c_proj',\n",
       " 'transformer.h.27.attn.c_proj',\n",
       " 'transformer.h.28.attn.c_proj',\n",
       " 'transformer.h.29.attn.c_proj',\n",
       " 'transformer.h.30.attn.c_proj',\n",
       " 'transformer.h.31.attn.c_proj',\n",
       " 'transformer.h.32.attn.c_proj',\n",
       " 'transformer.h.33.attn.c_proj',\n",
       " 'transformer.h.34.attn.c_proj',\n",
       " 'transformer.h.35.attn.c_proj',\n",
       " 'transformer.h.36.attn.c_proj',\n",
       " 'transformer.h.37.attn.c_proj',\n",
       " 'transformer.h.38.attn.c_proj',\n",
       " 'transformer.h.39.attn.c_proj',\n",
       " 'transformer.h.40.attn.c_proj',\n",
       " 'transformer.h.41.attn.c_proj',\n",
       " 'transformer.h.42.attn.c_proj',\n",
       " 'transformer.h.43.attn.c_proj',\n",
       " 'transformer.h.44.attn.c_proj',\n",
       " 'transformer.h.45.attn.c_proj',\n",
       " 'transformer.h.46.attn.c_proj',\n",
       " 'transformer.h.47.attn.c_proj']"
      ]
     },
     "execution_count": 11,
     "metadata": {},
     "output_type": "execute_result"
    }
   ],
   "source": [
    "MODEL_CONFIG['attn_hook_names']\n"
   ]
  },
  {
   "cell_type": "code",
   "execution_count": null,
   "metadata": {},
   "outputs": [],
   "source": []
  }
 ],
 "metadata": {
  "kernelspec": {
   "display_name": "myenv",
   "language": "python",
   "name": "python3"
  },
  "language_info": {
   "codemirror_mode": {
    "name": "ipython",
    "version": 3
   },
   "file_extension": ".py",
   "mimetype": "text/x-python",
   "name": "python",
   "nbconvert_exporter": "python",
   "pygments_lexer": "ipython3",
   "version": "3.10.13"
  }
 },
 "nbformat": 4,
 "nbformat_minor": 2
}
